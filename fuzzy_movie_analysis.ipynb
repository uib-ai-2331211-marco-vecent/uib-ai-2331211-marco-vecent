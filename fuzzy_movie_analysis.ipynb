{
 "cells": [
  {
   "cell_type": "code",
   "execution_count": null,
   "id": "85661e7c",
   "metadata": {},
   "outputs": [],
   "source": [
    "import pandas as pd\n",
    "df = pd.read_csv(\"movie_sample.csv\")\n",
    "df.head()"
   ]
  },
  {
   "cell_type": "code",
   "execution_count": null,
   "id": "4d6cf38a",
   "metadata": {},
   "outputs": [],
   "source": [
    "import numpy as np\n",
    "import skfuzzy as fuzz\n",
    "from skfuzzy import control as ctrl\n"
   ]
  },
  {
   "cell_type": "code",
   "execution_count": null,
   "id": "efefe215",
   "metadata": {},
   "outputs": [],
   "source": [
    "count_univ = np.arange(0, df['rating_count'].max()+1, 1)\n",
    "rating_univ = np.arange(0, 5.1, 0.1)\n",
    "reco_univ = np.arange(0, 101, 1)\n",
    "\n",
    "avg_rating = ctrl.Antecedent(rating_univ, 'avg_rating')\n",
    "rating_count = ctrl.Antecedent(count_univ, 'rating_count')\n",
    "recommendation = ctrl.Consequent(reco_univ, 'recommendation')\n",
    "\n",
    "avg_rating['low'] = fuzz.trimf(rating_univ, [0, 0, 3])\n",
    "avg_rating['medium'] = fuzz.trimf(rating_univ, [2.5, 3.5, 4.5])\n",
    "avg_rating['high'] = fuzz.trimf(rating_univ, [3.5, 5, 5])\n",
    "\n",
    "rating_count['few'] = fuzz.trimf(count_univ, [0, 0, 50])\n",
    "rating_count['moderate'] = fuzz.trimf(count_univ, [30, 100, 200])\n",
    "rating_count['many'] = fuzz.trimf(count_univ, [150, 300, 300])\n",
    "\n",
    "recommendation['low'] = fuzz.trimf(reco_univ, [0, 0, 50])\n",
    "recommendation['medium'] = fuzz.trimf(reco_univ, [30, 50, 70])\n",
    "recommendation['high'] = fuzz.trimf(reco_univ, [60, 100, 100])\n"
   ]
  },
  {
   "cell_type": "code",
   "execution_count": null,
   "id": "8954a18b",
   "metadata": {},
   "outputs": [],
   "source": [
    "rule1 = ctrl.Rule(avg_rating['high'] & rating_count['many'], recommendation['high'])\n",
    "rule2 = ctrl.Rule(avg_rating['medium'] & rating_count['many'], recommendation['medium'])\n",
    "rule3 = ctrl.Rule(avg_rating['low'] | rating_count['few'], recommendation['low'])\n",
    "\n",
    "reco_ctrl = ctrl.ControlSystem([rule1, rule2, rule3])\n",
    "reco_sim = ctrl.ControlSystemSimulation(reco_ctrl)\n"
   ]
  },
  {
   "cell_type": "code",
   "execution_count": null,
   "id": "a7d44e89",
   "metadata": {},
   "outputs": [],
   "source": [
    "scores = []\n",
    "for _, row in df.iterrows():\n",
    "    reco_sim.input['avg_rating'] = float(row['avg_rating'])\n",
    "    reco_sim.input['rating_count'] = float(row['rating_count'])\n",
    "    reco_sim.compute()\n",
    "    scores.append(reco_sim.output['recommendation'])\n",
    "\n",
    "df['recommendation_score'] = scores\n",
    "df['recommendation_label'] = pd.cut(df['recommendation_score'], \n",
    "                                    bins=[0, 40, 70, 100], \n",
    "                                    labels=['Not Recommended','Maybe','Recommended'])\n",
    "df.to_csv(\"movie_sample_with_reco.csv\", index=False)\n",
    "df.head()\n"
   ]
  },
  {
   "cell_type": "code",
   "execution_count": null,
   "id": "87559240",
   "metadata": {},
   "outputs": [],
   "source": [
    "import matplotlib.pyplot as plt\n",
    "import seaborn as sns\n",
    "\n",
    "plt.figure(figsize=(6,4))\n",
    "sns.histplot(df['avg_rating'])\n",
    "plt.title(\"Distribusi avg_rating\")\n",
    "plt.savefig(\"dist_avg_rating.png\")\n",
    "\n",
    "plt.figure(figsize=(6,4))\n",
    "sns.histplot(df['rating_count'])\n",
    "plt.title(\"Distribusi rating_count\")\n",
    "plt.savefig(\"dist_rating_count.png\")\n",
    "\n",
    "plt.figure(figsize=(6,4))\n",
    "sns.histplot(df['recommendation_score'])\n",
    "plt.title(\"Distribusi recommendation_score\")\n",
    "plt.savefig(\"dist_recommendation_score.png\")\n",
    "\n",
    "plt.show()\n"
   ]
  }
 ],
 "metadata": {
  "kernelspec": {
   "display_name": "venv (3.13.3)",
   "language": "python",
   "name": "python3"
  },
  "language_info": {
   "codemirror_mode": {
    "name": "ipython",
    "version": 3
   },
   "file_extension": ".py",
   "mimetype": "text/x-python",
   "name": "python",
   "nbconvert_exporter": "python",
   "pygments_lexer": "ipython3",
   "version": "3.13.3"
  }
 },
 "nbformat": 4,
 "nbformat_minor": 5
}
