{
  "nbformat": 4,
  "nbformat_minor": 5,
  "metadata": {
    "kernelspec": {
      "display_name": "Python 3",
      "language": "python",
      "name": "python3"
    },
    "language_info": {
      "name": "python"
    }
  },
  "cells": [
    {
      "cell_type": "code",
      "metadata": {},
      "source": [
        "# Cell 1: basic imports & version check\n",
        "import sys\n",
        "import platform\n",
        "import numpy as np\n",
        "import pandas as pd\n",
        "import matplotlib\n",
        "import sklearn\n",
        "print('Python', sys.version.split()[0])\n",
        "print('Platform', platform.platform())\n",
        "print('numpy', np.__version__)\n",
        "print('pandas', pd.__version__)\n",
        "print('matplotlib', matplotlib.__version__)\n",
        "print('sklearn', sklearn.__version__)\n",
        "try:\n",
        "    import skfuzzy\n",
        "    print('skfuzzy', skfuzzy.__version__)\n",
        "except Exception as e:\n",
        "    print('skfuzzy: not installed or error ->', e)\n"
      ],
      "execution_count": null,
      "outputs": []
    },
    {
      "cell_type": "code",
      "metadata": {},
      "source": [
        "# Cell 2: simple plot\n",
        "import numpy as np\n",
        "import matplotlib.pyplot as plt\n",
        "x = np.linspace(0, 2*np.pi, 200)\n",
        "y = np.sin(x)\n",
        "plt.figure(figsize=(6,3))\n",
        "plt.plot(x, y)\n",
        "plt.title('Simple sine plot')\n",
        "plt.show()\n"
      ],
      "execution_count": null,
      "outputs": []
    },
    {
      "cell_type": "code",
      "metadata": {},
      "source": [
        "# Cell 3: load iris and show shape\n",
        "from sklearn.datasets import load_iris\n",
        "data = load_iris()\n",
        "X = data.data\n",
        "y = data.target\n",
        "print('Iris shape:', X.shape)\n",
        "import pandas as pd\n",
        "df = pd.DataFrame(X, columns=data.feature_names)\n",
        "df.head()\n"
      ],
      "execution_count": null,
      "outputs": []
    }
  ]
}